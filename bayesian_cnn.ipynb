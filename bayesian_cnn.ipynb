{
 "cells": [
  {
   "cell_type": "code",
   "execution_count": 1,
   "metadata": {},
   "outputs": [
    {
     "name": "stderr",
     "output_type": "stream",
     "text": [
      "C:\\Users\\Max\\Anaconda3\\lib\\site-packages\\h5py\\__init__.py:36: FutureWarning: Conversion of the second argument of issubdtype from `float` to `np.floating` is deprecated. In future, it will be treated as `np.float64 == np.dtype(float).type`.\n",
      "  from ._conv import register_converters as _register_converters\n",
      "Using TensorFlow backend.\n"
     ]
    }
   ],
   "source": [
    "from keras import backend as K\n",
    "from keras.models import Sequential\n",
    "from keras.layers import Dense, Dropout, Conv2D, Flatten\n",
    "from keras.layers.core import Lambda\n",
    "import matplotlib.pyplot as plt\n",
    "import numpy as np\n",
    "\n",
    "from tensorflow.examples.tutorials.mnist import input_data"
   ]
  },
  {
   "cell_type": "code",
   "execution_count": 2,
   "metadata": {},
   "outputs": [
    {
     "name": "stdout",
     "output_type": "stream",
     "text": [
      "[name: \"/cpu:0\"\n",
      "device_type: \"CPU\"\n",
      "memory_limit: 268435456\n",
      "locality {\n",
      "}\n",
      "incarnation: 6469090655164927197\n",
      ", name: \"/gpu:0\"\n",
      "device_type: \"GPU\"\n",
      "memory_limit: 3239362560\n",
      "locality {\n",
      "  bus_id: 1\n",
      "}\n",
      "incarnation: 4419427594582052429\n",
      "physical_device_desc: \"device: 0, name: GeForce GTX 970, pci bus id: 0000:02:00.0\"\n",
      "]\n"
     ]
    }
   ],
   "source": [
    "from tensorflow.python.client import device_lib\n",
    "print(device_lib.list_local_devices())"
   ]
  },
  {
   "cell_type": "code",
   "execution_count": 3,
   "metadata": {},
   "outputs": [
    {
     "name": "stdout",
     "output_type": "stream",
     "text": [
      "_________________________________________________________________\n",
      "Layer (type)                 Output Shape              Param #   \n",
      "=================================================================\n",
      "conv2d_1 (Conv2D)            (None, 26, 26, 64)        640       \n",
      "_________________________________________________________________\n",
      "lambda_1 (Lambda)            (None, 26, 26, 64)        0         \n",
      "_________________________________________________________________\n",
      "conv2d_2 (Conv2D)            (None, 24, 24, 32)        18464     \n",
      "_________________________________________________________________\n",
      "lambda_2 (Lambda)            (None, 24, 24, 32)        0         \n",
      "_________________________________________________________________\n",
      "flatten_1 (Flatten)          (None, 18432)             0         \n",
      "_________________________________________________________________\n",
      "dense_1 (Dense)              (None, 10)                184330    \n",
      "=================================================================\n",
      "Total params: 203,434\n",
      "Trainable params: 203,434\n",
      "Non-trainable params: 0\n",
      "_________________________________________________________________\n"
     ]
    }
   ],
   "source": [
    "def PermaDropout(rate):\n",
    "    return Lambda(lambda x: K.dropout(x, level=rate))\n",
    "\n",
    "#create model\n",
    "model = Sequential()\n",
    "\n",
    "#add model layers\n",
    "model.add(Conv2D(64, kernel_size=3, activation='relu', input_shape=(28,28,1)))\n",
    "model.add(PermaDropout(0.7))\n",
    "# model.add(Dropout(0.5))\n",
    "model.add(Conv2D(32, kernel_size=3, activation='relu'))\n",
    "model.add(PermaDropout(0.5))\n",
    "# model.add(Dropout(0.5))\n",
    "model.add(Flatten())\n",
    "model.add(Dense(10, activation='softmax'))\n",
    "\n",
    "model.compile(optimizer='adam', loss='categorical_crossentropy', metrics=['accuracy'])\n",
    "\n",
    "model.summary()"
   ]
  },
  {
   "cell_type": "code",
   "execution_count": 4,
   "metadata": {},
   "outputs": [
    {
     "name": "stdout",
     "output_type": "stream",
     "text": [
      "Extracting F:\\datasets\\MNIST\\train-images-idx3-ubyte.gz\n",
      "Extracting F:\\datasets\\MNIST\\train-labels-idx1-ubyte.gz\n",
      "Extracting F:\\datasets\\MNIST\\t10k-images-idx3-ubyte.gz\n",
      "Extracting F:\\datasets\\MNIST\\t10k-labels-idx1-ubyte.gz\n",
      "Extracting F:\\datasets\\notMNIST\\train-images-idx3-ubyte.gz\n",
      "Extracting F:\\datasets\\notMNIST\\train-labels-idx1-ubyte.gz\n",
      "Extracting F:\\datasets\\notMNIST\\t10k-images-idx3-ubyte.gz\n",
      "Extracting F:\\datasets\\notMNIST\\t10k-labels-idx1-ubyte.gz\n"
     ]
    }
   ],
   "source": [
    "mnist = input_data.read_data_sets(\"F:\\\\datasets\\\\MNIST\", one_hot=True)\n",
    "not_mnist = input_data.read_data_sets(\"F:\\\\datasets\\\\notMNIST\", one_hot=True)"
   ]
  },
  {
   "cell_type": "code",
   "execution_count": 5,
   "metadata": {
    "collapsed": true
   },
   "outputs": [],
   "source": [
    "# Get Data\n",
    "x_train_mnist = mnist.train.images.reshape((-1, 28, 28, 1))\n",
    "y_train_mnist = mnist.train.labels\n",
    "x_val_mnist = mnist.validation.images.reshape((-1, 28, 28, 1))\n",
    "y_val_mnist = mnist.validation.labels\n"
   ]
  },
  {
   "cell_type": "code",
   "execution_count": 24,
   "metadata": {},
   "outputs": [
    {
     "name": "stdout",
     "output_type": "stream",
     "text": [
      "Train on 55000 samples, validate on 5000 samples\n",
      "Epoch 1/2\n",
      "55000/55000 [==============================] - 19s - loss: 0.0905 - acc: 0.9717 - val_loss: 0.0770 - val_acc: 0.9790\n",
      "Epoch 2/2\n",
      "55000/55000 [==============================] - 19s - loss: 0.0693 - acc: 0.9783 - val_loss: 0.0776 - val_acc: 0.9746\n"
     ]
    },
    {
     "data": {
      "text/plain": [
       "<keras.callbacks.History at 0x253e5347940>"
      ]
     },
     "execution_count": 24,
     "metadata": {},
     "output_type": "execute_result"
    }
   ],
   "source": [
    "# Train Model # .7 dropout\n",
    "model.fit(x_train_mnist, y_train_mnist, validation_data=(x_val_mnist, y_val_mnist), epochs=2)"
   ]
  },
  {
   "cell_type": "code",
   "execution_count": 7,
   "metadata": {
    "collapsed": true
   },
   "outputs": [],
   "source": [
    "# print(\"0.7 conv dropout, 0.5 fc dropout\")\n",
    "# print(x_test.shape)\n",
    "# test_mean_preds = np.empty((len(x_test), 10))\n",
    "# for i, test in enumerate(x_test):\n",
    "#     if not i % 1000:\n",
    "#         print(\"{}% done\".format(i / len(x_test)))\n",
    "#     predictions = np.empty((50, 10))\n",
    "#     for j in range(50):\n",
    "#         preds = model.predict(test.reshape((1, 28, 28, 1)))\n",
    "#         # print(preds.shape)\n",
    "#         predictions[j] = preds\n",
    "#     test_mean_preds[i] = predictions.mean(axis=0)\n",
    "# print(\"100% done\")"
   ]
  },
  {
   "cell_type": "code",
   "execution_count": 8,
   "metadata": {
    "collapsed": true
   },
   "outputs": [],
   "source": [
    "# def histogram(data,myBins,w,h,figTitle,save='do not save'):\n",
    "#     print(\"Mean: %5.3f | Median: %5.3f | Min: %5.3f | Max: %5.3f\" % (np.mean(data),np.median(data),min(data),max(data)))\n",
    "#     hist, bins = np.histogram(data,bins=myBins)\n",
    "#     width = 0.7 * (bins[1] - bins[0])\n",
    "#     center = (bins[:-1] + bins[1:]) / 2\n",
    "#     plt.figure(num=None, figsize=(w,h), dpi=80, facecolor='w', edgecolor='k')\n",
    "#     plt.title(figTitle,fontsize=12)\n",
    "#     plt.bar(center, hist, align='center', width=width)\n",
    "#     if save=='save':\n",
    "#         plt.savefig(figTitle)\n",
    "#     plt.show()    "
   ]
  },
  {
   "cell_type": "code",
   "execution_count": 9,
   "metadata": {
    "collapsed": true
   },
   "outputs": [],
   "source": [
    "# oOSMax = [np.max(x) for x in test_mean_preds]\n",
    "# histogram(oOSMax, 25, 8, 5, \"oOSMax\")"
   ]
  },
  {
   "cell_type": "code",
   "execution_count": 10,
   "metadata": {
    "collapsed": true
   },
   "outputs": [],
   "source": [
    "# print(test_mean_preds)\n",
    "# for x in test_mean_preds:\n",
    "#     if np.argmax(x)"
   ]
  },
  {
   "cell_type": "markdown",
   "metadata": {},
   "source": [
    "### testing on just one example"
   ]
  },
  {
   "cell_type": "code",
   "execution_count": 11,
   "metadata": {},
   "outputs": [
    {
     "ename": "NameError",
     "evalue": "name 'x_test' is not defined",
     "output_type": "error",
     "traceback": [
      "\u001b[1;31m---------------------------------------------------------------------------\u001b[0m",
      "\u001b[1;31mNameError\u001b[0m                                 Traceback (most recent call last)",
      "\u001b[1;32m<ipython-input-11-5b42fdd21c52>\u001b[0m in \u001b[0;36m<module>\u001b[1;34m\u001b[0m\n\u001b[1;32m----> 1\u001b[1;33m \u001b[0mplt\u001b[0m\u001b[1;33m.\u001b[0m\u001b[0mimshow\u001b[0m\u001b[1;33m(\u001b[0m\u001b[0mx_test\u001b[0m\u001b[1;33m[\u001b[0m\u001b[1;36m4\u001b[0m\u001b[1;33m]\u001b[0m\u001b[1;33m.\u001b[0m\u001b[0mreshape\u001b[0m\u001b[1;33m(\u001b[0m\u001b[1;33m(\u001b[0m\u001b[1;36m28\u001b[0m\u001b[1;33m,\u001b[0m \u001b[1;36m28\u001b[0m\u001b[1;33m)\u001b[0m\u001b[1;33m)\u001b[0m\u001b[1;33m)\u001b[0m\u001b[1;33m\u001b[0m\u001b[1;33m\u001b[0m\u001b[0m\n\u001b[0m\u001b[0;32m      2\u001b[0m \u001b[0mplt\u001b[0m\u001b[1;33m.\u001b[0m\u001b[0mshow\u001b[0m\u001b[1;33m(\u001b[0m\u001b[1;33m)\u001b[0m\u001b[1;33m\u001b[0m\u001b[1;33m\u001b[0m\u001b[0m\n\u001b[0;32m      3\u001b[0m \u001b[1;33m\u001b[0m\u001b[0m\n\u001b[0;32m      4\u001b[0m \u001b[0mpreds\u001b[0m \u001b[1;33m=\u001b[0m \u001b[0mmodel\u001b[0m\u001b[1;33m.\u001b[0m\u001b[0mpredict\u001b[0m\u001b[1;33m(\u001b[0m\u001b[0mx_test\u001b[0m\u001b[1;33m[\u001b[0m\u001b[1;36m4\u001b[0m\u001b[1;33m]\u001b[0m\u001b[1;33m.\u001b[0m\u001b[0mreshape\u001b[0m\u001b[1;33m(\u001b[0m\u001b[1;33m(\u001b[0m\u001b[1;36m1\u001b[0m\u001b[1;33m,\u001b[0m \u001b[1;36m28\u001b[0m\u001b[1;33m,\u001b[0m \u001b[1;36m28\u001b[0m\u001b[1;33m,\u001b[0m \u001b[1;36m1\u001b[0m\u001b[1;33m)\u001b[0m\u001b[1;33m)\u001b[0m\u001b[1;33m)\u001b[0m\u001b[1;33m\u001b[0m\u001b[1;33m\u001b[0m\u001b[0m\n\u001b[0;32m      5\u001b[0m \u001b[0mprint\u001b[0m\u001b[1;33m(\u001b[0m\u001b[1;34m'predicted label:'\u001b[0m\u001b[1;33m,\u001b[0m \u001b[0mnp\u001b[0m\u001b[1;33m.\u001b[0m\u001b[0margmax\u001b[0m\u001b[1;33m(\u001b[0m\u001b[0mpreds\u001b[0m\u001b[1;33m)\u001b[0m\u001b[1;33m)\u001b[0m\u001b[1;33m\u001b[0m\u001b[1;33m\u001b[0m\u001b[0m\n",
      "\u001b[1;31mNameError\u001b[0m: name 'x_test' is not defined"
     ]
    }
   ],
   "source": [
    "plt.imshow(x_test[4].reshape((28, 28)))\n",
    "plt.show()\n",
    "\n",
    "preds = model.predict(x_test[4].reshape((1, 28, 28, 1)))\n",
    "print('predicted label:', np.argmax(preds))\n",
    "print('confidence: ', np.max(preds))\n",
    "print(preds)"
   ]
  },
  {
   "cell_type": "code",
   "execution_count": 40,
   "metadata": {},
   "outputs": [
    {
     "data": {
      "image/png": "[encoded data removed]",
      "text/plain": [
       "<matplotlib.figure.Figure at 0x2d2c16bfac8>"
      ]
     },
     "metadata": {},
     "output_type": "display_data"
    }
   ],
   "source": [
    "# predictions = model.predict(x_test[0:5])\n",
    "# print(np.max(predictions, axis=1))\n",
    "# print(predictions[4])\n",
    "\n",
    "predictions = np.empty((50, 10))\n",
    "for j in range(50):\n",
    "        preds = model.predict(x_test[4].reshape((1, 28, 28, 1)))\n",
    "        predictions[j] = preds\n",
    "\n",
    "argmax_preds = np.argmax(predictions, axis=1)\n",
    "plt.hist(argmax_preds, bins=np.arange(10)-0.5)\n",
    "plt.xticks(np.arange(0, 10))\n",
    "plt.xlim(0-0.5, 10-0.5)\n",
    "plt.title(\"Predictions for x_test[4]\")\n",
    "plt.ylabel(\"Frequency\")\n",
    "plt.xlabel(\"Predicted label\")\n",
    "plt.show()"
   ]
  },
  {
   "cell_type": "markdown",
   "metadata": {},
   "source": [
    "### Test on unseen notMNIST data"
   ]
  },
  {
   "cell_type": "code",
   "execution_count": 7,
   "metadata": {
    "collapsed": true
   },
   "outputs": [],
   "source": [
    "x_test_notMNIST = not_mnist.test.images.reshape((-1, 28, 28, 1))\n",
    "y_test_notMNIST = not_mnist.test.labels"
   ]
  },
  {
   "cell_type": "code",
   "execution_count": 8,
   "metadata": {
    "collapsed": true
   },
   "outputs": [],
   "source": [
    "# print(\"0.7 conv dropout, 0.5 fc dropout\")\n",
    "# correct = 0\n",
    "# incorrect = 0\n",
    "# incorrect_ids = []\n",
    "\n",
    "# test_mean_preds_mnist = np.empty((len(x_test_notMNIST), 10))\n",
    "# for i, test in enumerate(x_test_notMNIST):\n",
    "#     # Log percent complete\n",
    "#     if not i % 1000:\n",
    "#         print(\"{}% done\".format(i / len(x_test_notMNIST)))\n",
    "        \n",
    "#     # Predict 50 times for each sample\n",
    "#     predictions = np.empty((50, 10))\n",
    "#     for j in range(50):\n",
    "#         preds = model.predict(test.reshape((1, 28, 28, 1)))\n",
    "#         predictions[j] = preds\n",
    "        \n",
    "#     # Store mean predictions\n",
    "#     mean_predictions = predictions.mean(axis=0)\n",
    "#     test_mean_preds_mnist[i] = mean_predictions\n",
    "#     if np.argmax(mean_predictions) == np.argmax(y_test_notMNIST[i]):\n",
    "#         correct += 1\n",
    "#     else:\n",
    "#         incorrect += 1\n",
    "#         incorrect_ids.append(i)\n",
    "        \n",
    "# print(\"100% done\")\n",
    "# print(\"accuracy on set:\", str(correct / (correct + incorrect)))"
   ]
  },
  {
   "cell_type": "code",
   "execution_count": 25,
   "metadata": {},
   "outputs": [
    {
     "name": "stdout",
     "output_type": "stream",
     "text": [
      "0.0% done\n",
      "10.0% done\n",
      "20.0% done\n",
      "30.0% done\n",
      "40.0% done\n",
      "50.0% done\n",
      "60.0% done\n",
      "70.0% done\n",
      "80.0% done\n",
      "90.0% done\n",
      "100% done\n"
     ]
    }
   ],
   "source": [
    "# mc_predictions = np.zeros((10000, 10))\n",
    "predictions_notMNIST = np.zeros((10000, 10))\n",
    "for z in range(50):\n",
    "    if not z % 5:\n",
    "        print(\"{}% done\".format((z / 50) * 100))\n",
    "    preds = model.predict(x_test_notMNIST)\n",
    "\n",
    "    # Calculate moving average\n",
    "    predictions_notMNIST = predictions_notMNIST + (preds - predictions_notMNIST) / (z + 1)\n",
    "    \n",
    "print(\"100% done\")"
   ]
  },
  {
   "cell_type": "markdown",
   "metadata": {},
   "source": [
    "## Test on unseen MNIST data"
   ]
  },
  {
   "cell_type": "code",
   "execution_count": 10,
   "metadata": {
    "collapsed": true
   },
   "outputs": [],
   "source": [
    "x_test_mnist = mnist.test.images.reshape((-1, 28, 28, 1))\n",
    "y_test_mnist = mnist.test.labels"
   ]
  },
  {
   "cell_type": "code",
   "execution_count": 26,
   "metadata": {},
   "outputs": [
    {
     "name": "stdout",
     "output_type": "stream",
     "text": [
      "0.0% done\n",
      "10.0% done\n",
      "20.0% done\n",
      "30.0% done\n",
      "40.0% done\n",
      "50.0% done\n",
      "60.0% done\n",
      "70.0% done\n",
      "80.0% done\n",
      "90.0% done\n",
      "100% done\n"
     ]
    }
   ],
   "source": [
    "predictions_mnist = np.zeros((10000, 10))\n",
    "for z in range(50):\n",
    "    if not z % 5:\n",
    "        print(\"{}% done\".format((z / 50) * 100))\n",
    "    preds = model.predict(x_test_mnist)\n",
    "\n",
    "    # Calculate moving average\n",
    "    predictions_mnist = predictions_mnist + (preds - predictions_mnist) / (z + 1)\n",
    "\n",
    "print(\"100% done\")"
   ]
  },
  {
   "cell_type": "code",
   "execution_count": 27,
   "metadata": {},
   "outputs": [
    {
     "name": "stdout",
     "output_type": "stream",
     "text": [
      "Accuracy: 98.42999999999999 %\n"
     ]
    }
   ],
   "source": [
    "correct = 0\n",
    "incorrect = 0\n",
    "incorrect_ids = []\n",
    "\n",
    "for i in range(10000):\n",
    "    if np.argmax(predictions_mnist[i]) == np.argmax(y_test_mnist[i]):\n",
    "        correct += 1\n",
    "    else:\n",
    "        incorrect += 1\n",
    "        incorrect_ids.append(i)\n",
    "\n",
    "acc = correct / (correct + incorrect)\n",
    "print(\"Accuracy:\", str(acc*100), \"%\")"
   ]
  },
  {
   "cell_type": "code",
   "execution_count": null,
   "metadata": {
    "collapsed": true
   },
   "outputs": [],
   "source": []
  },
  {
   "cell_type": "markdown",
   "metadata": {},
   "source": [
    "## Plotting confidence scores"
   ]
  },
  {
   "cell_type": "code",
   "execution_count": 28,
   "metadata": {},
   "outputs": [
    {
     "name": "stdout",
     "output_type": "stream",
     "text": [
      "(10000,)\n"
     ]
    }
   ],
   "source": [
    "confidence = np.amax(predictions_mnist, axis=1)\n",
    "confidence_ood = np.amax(predictions_notMNIST, axis=1)\n",
    "print(confidence.shape)"
   ]
  },
  {
   "cell_type": "code",
   "execution_count": 25,
   "metadata": {},
   "outputs": [
    {
     "data": {
      "image/png": "[encoded data removed]",
      "text/plain": [
       "<Figure size 700x600 with 1 Axes>"
      ]
     },
     "metadata": {
      "needs_background": "light"
     },
     "output_type": "display_data"
    }
   ],
   "source": [
    "plt.figure(figsize=(7, 6), dpi=100)\n",
    "plt.title(\"BCNN maximal activation confidence\", fontsize='xx-large')\n",
    "plt.hist([confidence, confidence_ood], bins=np.linspace(0.0, 1.0, num=21), label=['in-dist', 'out-of-dist'])\n",
    "# plt.hist(confidence, bins=np.linspace(0.0, 1.0, num=21))\n",
    "plt.xticks(np.linspace(0.0, 1.0, num=11))\n",
    "plt.legend(fontsize='xx-large')\n",
    "plt.ylabel(\"Frequency\", fontsize='xx-large')\n",
    "plt.xlabel(\"Confidence\", fontsize='xx-large')\n",
    "# plt.tight_layout()\n",
    "# plt.savefig(\"bcnn_1\")\n",
    "plt.show()"
   ]
  },
  {
   "cell_type": "code",
   "execution_count": 29,
   "metadata": {},
   "outputs": [
    {
     "name": "stdout",
     "output_type": "stream",
     "text": [
      "(10000,)\n"
     ]
    }
   ],
   "source": [
    "from scipy.stats import entropy\n",
    "\n",
    "neg_entropies = -np.apply_along_axis(entropy, 1, predictions_mnist)\n",
    "neg_entropies_ood = -np.apply_along_axis(entropy, 1, predictions_notMNIST)\n",
    "print(neg_entropies.shape)"
   ]
  },
  {
   "cell_type": "code",
   "execution_count": 30,
   "metadata": {},
   "outputs": [
    {
     "data": {
      "image/png": "[encoded data removed]",
      "text/plain": [
       "<Figure size 700x600 with 1 Axes>"
      ]
     },
     "metadata": {
      "needs_background": "light"
     },
     "output_type": "display_data"
    }
   ],
   "source": [
    "plt.figure(figsize=(7, 6), dpi=100)\n",
    "plt.title(\"BCNN negative entropy confidence\", fontsize='xx-large')\n",
    "plt.hist([neg_entropies, neg_entropies_ood], bins=20, label=['in-dist', 'out-of-dist'])\n",
    "plt.legend(fontsize='xx-large')\n",
    "plt.ylabel(\"Frequency\", fontsize='xx-large')\n",
    "plt.xlabel(\"Confidence\", fontsize='xx-large')\n",
    "# plt.tight_layout()\n",
    "# plt.savefig(\"bcnn_2\")\n",
    "plt.show()"
   ]
  },
  {
   "cell_type": "markdown",
   "metadata": {
    "collapsed": true
   },
   "source": [
    "## histogram intersection"
   ]
  },
  {
   "cell_type": "code",
   "execution_count": 44,
   "metadata": {
    "collapsed": true
   },
   "outputs": [],
   "source": [
    "def return_intersection(hist_1, hist_2):\n",
    "    minima = np.minimum(hist_1, hist_2)\n",
    "    intersection = np.true_divide(np.sum(minima), np.sum(hist_2))\n",
    "    return intersection"
   ]
  },
  {
   "cell_type": "code",
   "execution_count": 45,
   "metadata": {},
   "outputs": [
    {
     "name": "stdout",
     "output_type": "stream",
     "text": [
      "0.9896584832527162\n"
     ]
    }
   ],
   "source": [
    "print(return_intersection(confidence, confidence_ood))"
   ]
  },
  {
   "cell_type": "code",
   "execution_count": 46,
   "metadata": {
    "collapsed": true
   },
   "outputs": [],
   "source": [
    "hist1,bins=np.histogram(confidence)\n",
    "hist2,bins=np.histogram(confidence_ood)"
   ]
  },
  {
   "cell_type": "code",
   "execution_count": 47,
   "metadata": {},
   "outputs": [
    {
     "name": "stdout",
     "output_type": "stream",
     "text": [
      "0.3475\n"
     ]
    }
   ],
   "source": [
    "print(return_intersection(hist1, hist2))"
   ]
  },
  {
   "cell_type": "code",
   "execution_count": 48,
   "metadata": {
    "collapsed": true
   },
   "outputs": [],
   "source": [
    "hist3,bins=np.histogram(neg_entropies)\n",
    "hist4,bins=np.histogram(neg_entropies_ood)"
   ]
  },
  {
   "cell_type": "code",
   "execution_count": 49,
   "metadata": {},
   "outputs": [
    {
     "name": "stdout",
     "output_type": "stream",
     "text": [
      "0.3121\n"
     ]
    }
   ],
   "source": [
    "print(return_intersection(hist3, hist4))"
   ]
  },
  {
   "cell_type": "code",
   "execution_count": 36,
   "metadata": {},
   "outputs": [
    {
     "name": "stdout",
     "output_type": "stream",
     "text": [
      "Ttest_indResult(statistic=112.09090723666269, pvalue=0.0)\n",
      "Ttest_indResult(statistic=129.29379881179202, pvalue=0.0)\n"
     ]
    }
   ],
   "source": [
    "from scipy import stats\n",
    "\n",
    "print(stats.ttest_ind(confidence,confidence_ood))\n",
    "print(stats.ttest_ind(neg_entropies,neg_entropies_ood))"
   ]
  },
  {
   "cell_type": "markdown",
   "metadata": {},
   "source": [
    "# ROC curves"
   ]
  },
  {
   "cell_type": "markdown",
   "metadata": {},
   "source": [
    "## maximal activation"
   ]
  },
  {
   "cell_type": "code",
   "execution_count": 40,
   "metadata": {},
   "outputs": [
    {
     "name": "stdout",
     "output_type": "stream",
     "text": [
      "0.92276164\n"
     ]
    },
    {
     "data": {
      "image/png": "[encoded data removed]",
      "text/plain": [
       "<matplotlib.figure.Figure at 0x2541f23edd8>"
      ]
     },
     "metadata": {},
     "output_type": "display_data"
    }
   ],
   "source": [
    "from sklearn.metrics import roc_curve\n",
    "from sklearn.metrics import auc\n",
    "\n",
    "y_true = np.concatenate( ( np.ones(len(confidence)), np.zeros(len(confidence_ood)) ) )\n",
    "y_score = np.concatenate((confidence, confidence_ood))\n",
    "fpr_softmax, tpr_softmax, thresholds_softmax = roc_curve(y_true, y_score)\n",
    "auc_metric = auc(fpr_softmax, tpr_softmax)\n",
    "\n",
    "print(auc_metric)\n",
    "\n",
    "plt.plot(fpr_softmax, tpr_softmax)\n",
    "plt.xlabel('FPR')\n",
    "plt.ylabel('TPR')\n",
    "plt.show()"
   ]
  },
  {
   "cell_type": "markdown",
   "metadata": {},
   "source": [
    "## neg entropy"
   ]
  },
  {
   "cell_type": "code",
   "execution_count": 41,
   "metadata": {},
   "outputs": [
    {
     "name": "stdout",
     "output_type": "stream",
     "text": [
      "0.9250553300000001\n"
     ]
    },
    {
     "data": {
      "image/png": "[encoded data removed]",
      "text/plain": [
       "<matplotlib.figure.Figure at 0x25423dcd198>"
      ]
     },
     "metadata": {},
     "output_type": "display_data"
    }
   ],
   "source": [
    "from sklearn.metrics import roc_curve\n",
    "from sklearn.metrics import auc\n",
    "\n",
    "y_true = np.concatenate( ( np.ones(len(neg_entropies)), np.zeros(len(neg_entropies_ood)) ) )\n",
    "y_score = np.concatenate((neg_entropies, neg_entropies_ood))\n",
    "fpr_neg_ent, tpr_neg_ent, thresholds = roc_curve(y_true, y_score)\n",
    "auc_metric = auc(fpr_neg_ent, tpr_neg_ent)\n",
    "\n",
    "print(auc_metric)\n",
    "\n",
    "plt.plot(fpr_neg_ent, tpr_neg_ent)\n",
    "plt.xlabel('FPR')\n",
    "plt.ylabel('TPR')\n",
    "plt.show()"
   ]
  },
  {
   "cell_type": "markdown",
   "metadata": {},
   "source": [
    "# save arrays"
   ]
  },
  {
   "cell_type": "code",
   "execution_count": 39,
   "metadata": {
    "collapsed": true
   },
   "outputs": [],
   "source": [
    "np.save('fpr_softmax', fpr_softmax)\n",
    "np.save('tpr_softmax', tpr_softmax)\n",
    "np.save('confidence', confidence)\n",
    "np.save('confidence_ood', confidence_ood)\n",
    "\n",
    "np.save('fpr_neg_ent', fpr_neg_ent)\n",
    "np.save('tpr_neg_ent', tpr_neg_ent)\n",
    "np.save('neg_entropies', neg_entropies)\n",
    "np.save('neg_entropies_ood', neg_entropies_ood)"
   ]
  },
  {
   "cell_type": "code",
   "execution_count": null,
   "metadata": {
    "collapsed": true
   },
   "outputs": [],
   "source": []
  }
 ],
 "metadata": {
  "kernelspec": {
   "display_name": "Python 3",
   "language": "python",
   "name": "python3"
  },
  "language_info": {
   "codemirror_mode": {
    "name": "ipython",
    "version": 3
   },
   "file_extension": ".py",
   "mimetype": "text/x-python",
   "name": "python",
   "nbconvert_exporter": "python",
   "pygments_lexer": "ipython3",
   "version": "3.6.3"
  }
 },
 "nbformat": 4,
 "nbformat_minor": 2
}
