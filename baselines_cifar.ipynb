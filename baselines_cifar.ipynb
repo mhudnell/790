{
 "cells": [
  {
   "cell_type": "code",
   "execution_count": 1,
   "metadata": {},
   "outputs": [
    {
     "name": "stderr",
     "output_type": "stream",
     "text": [
      "C:\\Users\\Max\\Anaconda3\\lib\\site-packages\\h5py\\__init__.py:36: FutureWarning: Conversion of the second argument of issubdtype from `float` to `np.floating` is deprecated. In future, it will be treated as `np.float64 == np.dtype(float).type`.\n",
      "  from ._conv import register_converters as _register_converters\n",
      "Using TensorFlow backend.\n"
     ]
    }
   ],
   "source": [
    "from keras import backend as K\n",
    "from keras.models import Sequential\n",
    "from keras.layers import Dense, Dropout, Conv2D, Flatten\n",
    "from keras.layers.core import Lambda\n",
    "import matplotlib.pyplot as plt\n",
    "import numpy as np\n",
    "\n",
    "from tensorflow.examples.tutorials.mnist import input_data"
   ]
  },
  {
   "cell_type": "code",
   "execution_count": 60,
   "metadata": {},
   "outputs": [
    {
     "name": "stdout",
     "output_type": "stream",
     "text": [
      "(50000, 32, 32, 3)\n",
      "(45000, 32, 32, 3) (45000, 10)\n",
      "(9000, 32, 32, 3) (9000, 10)\n",
      "(1000, 32, 32, 3) (1000, 10)\n"
     ]
    }
   ],
   "source": [
    "from keras.datasets import cifar10\n",
    "from keras.utils.np_utils import to_categorical\n",
    "\n",
    "(x_train, y_train), (x_test, y_test) = cifar10.load_data()\n",
    "print(x_train.shape)\n",
    "train_in = np.array(np.where(y_train != 0))[0]\n",
    "# print(train_in.shape)\n",
    "# print(train_in[0:20])\n",
    "# print(np.unique(train_in[1]))\n",
    "# train_out = np.where(y_train == 0)\n",
    "test_in = np.array(np.where(y_test != 0))[0]\n",
    "test_out = np.array(np.where(y_test == 0))[0]\n",
    "# print('1:', x_train[np.where(y_train != 0)].shape)\n",
    "# print('2:', x_train[0:2].shape)\n",
    "x_train_in = x_train[np.array(train_in)]\n",
    "# print(x_train_in.shape)\n",
    "y_train_in = y_train[train_in]\n",
    "x_test_in = x_test[test_in]\n",
    "y_test_in = y_test[test_in]\n",
    "x_test_ood = x_test[test_out]\n",
    "y_test_ood = y_test[test_out]\n",
    "\n",
    "y_train_in = to_categorical(y_train_in, num_classes=10)\n",
    "y_test_in = to_categorical(y_test_in, num_classes=10)\n",
    "y_test_ood = to_categorical(y_test_ood, num_classes=10)\n",
    "\n",
    "x_train_in = x_train_in.astype('float32')\n",
    "x_test_in = x_test_in.astype('float32')\n",
    "x_test_ood = x_test_ood.astype('float32')\n",
    "x_train_in /= 255\n",
    "x_test_in /= 255\n",
    "x_test_ood /= 255\n",
    "\n",
    "\n",
    "print(x_train_in.shape, y_train_in.shape)\n",
    "print(x_test_in.shape, y_test_in.shape)\n",
    "print(x_test_ood.shape, y_test_ood.shape)"
   ]
  },
  {
   "cell_type": "code",
   "execution_count": 38,
   "metadata": {},
   "outputs": [],
   "source": [
    "# model = Sequential()\n",
    "# model.add(Conv2D(32, (3, 3), padding='same',\n",
    "#                  input_shape=x_train.shape[1:]))\n",
    "# model.add(Activation('relu'))\n",
    "# model.add(Conv2D(32, (3, 3)))\n",
    "# model.add(Activation('relu'))\n",
    "# model.add(MaxPooling2D(pool_size=(2, 2)))\n",
    "# model.add(Dropout(0.25))\n",
    "\n",
    "# model.add(Conv2D(64, (3, 3), padding='same'))\n",
    "# model.add(Activation('relu'))\n",
    "# model.add(Conv2D(64, (3, 3)))\n",
    "# model.add(Activation('relu'))\n",
    "# model.add(MaxPooling2D(pool_size=(2, 2)))\n",
    "# model.add(Dropout(0.25))\n",
    "\n",
    "# model.add(Flatten())\n",
    "# model.add(Dense(512))\n",
    "# model.add(Activation('relu'))\n",
    "# model.add(Dropout(0.5))\n",
    "# model.add(Dense(num_classes))\n",
    "# model.add(Activation('softmax'))"
   ]
  },
  {
   "cell_type": "code",
   "execution_count": 61,
   "metadata": {},
   "outputs": [],
   "source": [
    "import tensorflow as tf\n",
    "from keras.models import Sequential\n",
    "from keras.layers import Dense, Conv2D, Flatten, MaxPooling2D, Activation\n",
    "\n",
    "#create model\n",
    "model = Sequential()\n",
    "\n",
    "#add model layers\n",
    "# model.add(Conv2D(32, (3, 3), padding='same', activation='relu', input_shape=(32,32,3)))\n",
    "# model.add(Conv2D(32, (3, 3), activation='relu'))\n",
    "# model.add(MaxPooling2D(pool_size=(2, 2)))\n",
    "# model.add(Dropout(0.25))\n",
    "model.add(Conv2D(32, (3, 3), padding='same',\n",
    "                 input_shape=x_train.shape[1:]))\n",
    "model.add(Activation('relu'))\n",
    "model.add(Conv2D(32, (3, 3)))\n",
    "model.add(Activation('relu'))\n",
    "model.add(MaxPooling2D(pool_size=(2, 2)))\n",
    "model.add(Dropout(0.25))\n",
    "\n",
    "\n",
    "model.add(Conv2D(64, (3, 3), padding='same'))\n",
    "model.add(Activation('relu'))\n",
    "model.add(Conv2D(64, (3, 3)))\n",
    "model.add(Activation('relu'))\n",
    "model.add(MaxPooling2D(pool_size=(2, 2)))\n",
    "model.add(Dropout(0.25))\n",
    "\n",
    "model.add(Flatten())\n",
    "model.add(Dense(512))\n",
    "model.add(Activation('relu'))\n",
    "model.add(Dropout(0.5))\n",
    "model.add(Dense(10))\n",
    "model.add(Activation('softmax'))\n",
    "\n",
    "# model.add(Flatten())\n",
    "# model.add(Dense(10, activation='softmax'))\n",
    "\n",
    "#compile model using accuracy to measure model performance\n",
    "model.compile(optimizer='adam', loss='categorical_crossentropy', metrics=['accuracy'])"
   ]
  },
  {
   "cell_type": "code",
   "execution_count": 62,
   "metadata": {},
   "outputs": [
    {
     "name": "stdout",
     "output_type": "stream",
     "text": [
      "_________________________________________________________________\n",
      "Layer (type)                 Output Shape              Param #   \n",
      "=================================================================\n",
      "conv2d_34 (Conv2D)           (None, 32, 32, 32)        896       \n",
      "_________________________________________________________________\n",
      "activation_25 (Activation)   (None, 32, 32, 32)        0         \n",
      "_________________________________________________________________\n",
      "conv2d_35 (Conv2D)           (None, 30, 30, 32)        9248      \n",
      "_________________________________________________________________\n",
      "activation_26 (Activation)   (None, 30, 30, 32)        0         \n",
      "_________________________________________________________________\n",
      "max_pooling2d_12 (MaxPooling (None, 15, 15, 32)        0         \n",
      "_________________________________________________________________\n",
      "dropout_17 (Dropout)         (None, 15, 15, 32)        0         \n",
      "_________________________________________________________________\n",
      "conv2d_36 (Conv2D)           (None, 15, 15, 64)        18496     \n",
      "_________________________________________________________________\n",
      "activation_27 (Activation)   (None, 15, 15, 64)        0         \n",
      "_________________________________________________________________\n",
      "conv2d_37 (Conv2D)           (None, 13, 13, 64)        36928     \n",
      "_________________________________________________________________\n",
      "activation_28 (Activation)   (None, 13, 13, 64)        0         \n",
      "_________________________________________________________________\n",
      "max_pooling2d_13 (MaxPooling (None, 6, 6, 64)          0         \n",
      "_________________________________________________________________\n",
      "dropout_18 (Dropout)         (None, 6, 6, 64)          0         \n",
      "_________________________________________________________________\n",
      "flatten_10 (Flatten)         (None, 2304)              0         \n",
      "_________________________________________________________________\n",
      "dense_13 (Dense)             (None, 512)               1180160   \n",
      "_________________________________________________________________\n",
      "activation_29 (Activation)   (None, 512)               0         \n",
      "_________________________________________________________________\n",
      "dropout_19 (Dropout)         (None, 512)               0         \n",
      "_________________________________________________________________\n",
      "dense_14 (Dense)             (None, 10)                5130      \n",
      "_________________________________________________________________\n",
      "activation_30 (Activation)   (None, 10)                0         \n",
      "=================================================================\n",
      "Total params: 1,250,858\n",
      "Trainable params: 1,250,858\n",
      "Non-trainable params: 0\n",
      "_________________________________________________________________\n"
     ]
    }
   ],
   "source": [
    "model.summary()"
   ]
  },
  {
   "cell_type": "code",
   "execution_count": 21,
   "metadata": {},
   "outputs": [],
   "source": [
    "# Get Data\n",
    "# x_train_mnist = mnist.train.images.reshape((-1, 28, 28, 1))\n",
    "# y_train_mnist = mnist.train.labels\n",
    "# x_val_mnist = mnist.validation.images.reshape((-1, 28, 28, 1))\n",
    "# y_val_mnist = mnist.validation.labels\n",
    "# x_test_mnist = mnist.test.images.reshape((-1, 28, 28, 1))\n",
    "# y_test_mnist = mnist.test.labels\n",
    "\n",
    "# print(x_val_mnist.shape)\n",
    "# print(x_test_mnist.shape)\n",
    "\n",
    "# x_test_notMNIST = not_mnist.test.images.reshape((-1, 28, 28, 1))"
   ]
  },
  {
   "cell_type": "code",
   "execution_count": 63,
   "metadata": {},
   "outputs": [
    {
     "name": "stdout",
     "output_type": "stream",
     "text": [
      "Train on 45000 samples, validate on 9000 samples\n",
      "Epoch 1/25\n",
      "45000/45000 [==============================] - 18s - loss: 1.4493 - acc: 0.4623 - val_loss: 1.0963 - val_acc: 0.6022\n",
      "Epoch 2/25\n",
      "45000/45000 [==============================] - 17s - loss: 1.0816 - acc: 0.6103 - val_loss: 0.8899 - val_acc: 0.6881\n",
      "Epoch 3/25\n",
      "45000/45000 [==============================] - 17s - loss: 0.9268 - acc: 0.6707 - val_loss: 0.8144 - val_acc: 0.7118\n",
      "Epoch 4/25\n",
      "45000/45000 [==============================] - 17s - loss: 0.8331 - acc: 0.7039 - val_loss: 0.7577 - val_acc: 0.7302\n",
      "Epoch 5/25\n",
      "45000/45000 [==============================] - 17s - loss: 0.7677 - acc: 0.7302 - val_loss: 0.7319 - val_acc: 0.7411\n",
      "Epoch 6/25\n",
      "45000/45000 [==============================] - 17s - loss: 0.7130 - acc: 0.7463 - val_loss: 0.7034 - val_acc: 0.7551\n",
      "Epoch 7/25\n",
      "45000/45000 [==============================] - 17s - loss: 0.6700 - acc: 0.7633 - val_loss: 0.6659 - val_acc: 0.7642\n",
      "Epoch 8/25\n",
      "45000/45000 [==============================] - 17s - loss: 0.6345 - acc: 0.7740 - val_loss: 0.6822 - val_acc: 0.7667\n",
      "Epoch 9/25\n",
      "45000/45000 [==============================] - 17s - loss: 0.6063 - acc: 0.7846 - val_loss: 0.6412 - val_acc: 0.7806\n",
      "Epoch 10/25\n",
      "45000/45000 [==============================] - 17s - loss: 0.5798 - acc: 0.7938 - val_loss: 0.6594 - val_acc: 0.7779\n",
      "Epoch 11/25\n",
      "45000/45000 [==============================] - 17s - loss: 0.5662 - acc: 0.8008 - val_loss: 0.6268 - val_acc: 0.7867\n",
      "Epoch 12/25\n",
      "45000/45000 [==============================] - 17s - loss: 0.5427 - acc: 0.8051 - val_loss: 0.6217 - val_acc: 0.7866\n",
      "Epoch 13/25\n",
      "45000/45000 [==============================] - 17s - loss: 0.5205 - acc: 0.8146 - val_loss: 0.6125 - val_acc: 0.7951\n",
      "Epoch 14/25\n",
      "45000/45000 [==============================] - 17s - loss: 0.5103 - acc: 0.8184 - val_loss: 0.6138 - val_acc: 0.7917\n",
      "Epoch 15/25\n",
      "45000/45000 [==============================] - 17s - loss: 0.4932 - acc: 0.8255 - val_loss: 0.6115 - val_acc: 0.7993\n",
      "Epoch 16/25\n",
      "45000/45000 [==============================] - 17s - loss: 0.4857 - acc: 0.8278 - val_loss: 0.6210 - val_acc: 0.7909\n",
      "Epoch 17/25\n",
      "45000/45000 [==============================] - 17s - loss: 0.4648 - acc: 0.8358 - val_loss: 0.6490 - val_acc: 0.7902\n",
      "Epoch 18/25\n",
      "45000/45000 [==============================] - 18s - loss: 0.4575 - acc: 0.8385 - val_loss: 0.6182 - val_acc: 0.7914\n",
      "Epoch 19/25\n",
      "45000/45000 [==============================] - 18s - loss: 0.4523 - acc: 0.8390 - val_loss: 0.6058 - val_acc: 0.8001\n",
      "Epoch 20/25\n",
      "45000/45000 [==============================] - 17s - loss: 0.4396 - acc: 0.8418 - val_loss: 0.6078 - val_acc: 0.8041\n",
      "Epoch 21/25\n",
      "45000/45000 [==============================] - 17s - loss: 0.4303 - acc: 0.8469 - val_loss: 0.6159 - val_acc: 0.7968\n",
      "Epoch 22/25\n",
      "45000/45000 [==============================] - 17s - loss: 0.4255 - acc: 0.8498 - val_loss: 0.6215 - val_acc: 0.7960\n",
      "Epoch 23/25\n",
      "45000/45000 [==============================] - 17s - loss: 0.4143 - acc: 0.8524 - val_loss: 0.6345 - val_acc: 0.7994\n",
      "Epoch 24/25\n",
      "45000/45000 [==============================] - 17s - loss: 0.4081 - acc: 0.8560 - val_loss: 0.6484 - val_acc: 0.7977\n",
      "Epoch 25/25\n",
      "45000/45000 [==============================] - 17s - loss: 0.4069 - acc: 0.8566 - val_loss: 0.6148 - val_acc: 0.8038\n"
     ]
    },
    {
     "data": {
      "text/plain": [
       "<keras.callbacks.History at 0x14822cbf630>"
      ]
     },
     "execution_count": 63,
     "metadata": {},
     "output_type": "execute_result"
    }
   ],
   "source": [
    "# cifar10 all vs cifar10 plane\n",
    "model.fit(x_train_in, y_train_in, validation_data=(x_test_in, y_test_in), epochs=25)"
   ]
  },
  {
   "cell_type": "markdown",
   "metadata": {},
   "source": [
    "### Get predictions for test sets MNIST (in-distribution) and notMNIST (out-of-distribution)"
   ]
  },
  {
   "cell_type": "code",
   "execution_count": 68,
   "metadata": {
    "collapsed": true
   },
   "outputs": [],
   "source": [
    "in_1000 = np.random.choice(len(x_test_in), 1000)\n",
    "preds = model.predict(x_test_in[in_1000])\n",
    "preds_ood = model.predict(x_test_ood)"
   ]
  },
  {
   "cell_type": "markdown",
   "metadata": {},
   "source": [
    "## Using max softmax value as confidence score"
   ]
  },
  {
   "cell_type": "code",
   "execution_count": 69,
   "metadata": {
    "collapsed": true
   },
   "outputs": [],
   "source": [
    "confidence = np.amax(preds, axis=1)\n",
    "confidence_ood = np.amax(preds_ood, axis=1)"
   ]
  },
  {
   "cell_type": "code",
   "execution_count": 70,
   "metadata": {},
   "outputs": [
    {
     "name": "stdout",
     "output_type": "stream",
     "text": [
      "[0.         0.01428571 0.02857143 0.04285714 0.05714286 0.07142857\n",
      " 0.08571429 0.1        0.11428571 0.12857143 0.14285714 0.15714286\n",
      " 0.17142857 0.18571429 0.2        0.21428571 0.22857143 0.24285714\n",
      " 0.25714286 0.27142857 0.28571429 0.3        0.31428571 0.32857143\n",
      " 0.34285714 0.35714286 0.37142857 0.38571429 0.4        0.41428571\n",
      " 0.42857143 0.44285714 0.45714286 0.47142857 0.48571429 0.5\n",
      " 0.51428571 0.52857143 0.54285714 0.55714286 0.57142857 0.58571429\n",
      " 0.6        0.61428571 0.62857143 0.64285714 0.65714286 0.67142857\n",
      " 0.68571429 0.7        0.71428571 0.72857143 0.74285714 0.75714286\n",
      " 0.77142857 0.78571429 0.8        0.81428571 0.82857143 0.84285714\n",
      " 0.85714286 0.87142857 0.88571429 0.9        0.91428571 0.92857143\n",
      " 0.94285714 0.95714286 0.97142857 0.98571429 1.        ]\n"
     ]
    }
   ],
   "source": [
    "bin_dividers = np.linspace(0.0, 1.0, num=71)\n",
    "print(bin_dividers)"
   ]
  },
  {
   "cell_type": "code",
   "execution_count": 71,
   "metadata": {},
   "outputs": [
    {
     "data": {
      "image/png": "[encoded data removed]",
      "text/plain": [
       "<matplotlib.figure.Figure at 0x1493a15e160>"
      ]
     },
     "metadata": {},
     "output_type": "display_data"
    }
   ],
   "source": [
    "plt.figure(figsize=(7, 6), dpi=100) #, dpi=100\n",
    "plt.title(\"Maximal activation confidence\", fontsize='xx-large')\n",
    "# plt.ylim(top=3000)\n",
    "plt.hist([confidence, confidence_ood], bins=bin_dividers, label=['in-dist', 'out-of-dist'])\n",
    "plt.xticks(np.linspace(0.0, 1.0, num=11))\n",
    "plt.legend(fontsize='xx-large')\n",
    "plt.ylabel(\"Frequency\", fontsize='xx-large')\n",
    "plt.xlabel(\"Confidence\", fontsize='xx-large')\n",
    "# plt.savefig(\"fig1.png\")\n",
    "plt.show()"
   ]
  },
  {
   "cell_type": "code",
   "execution_count": 72,
   "metadata": {},
   "outputs": [
    {
     "name": "stdout",
     "output_type": "stream",
     "text": [
      "0.5724625000000001\n"
     ]
    },
    {
     "data": {
      "image/png": "[encoded data removed]",
      "text/plain": [
       "<matplotlib.figure.Figure at 0x1493a0ee4e0>"
      ]
     },
     "metadata": {},
     "output_type": "display_data"
    }
   ],
   "source": [
    "from sklearn.metrics import roc_curve\n",
    "from sklearn.metrics import auc\n",
    "\n",
    "y_true = np.concatenate( ( np.ones(len(confidence)), np.zeros(len(confidence_ood)) ) )\n",
    "y_score = np.concatenate((confidence, confidence_ood))\n",
    "fpr, tpr, thresholds = roc_curve(y_true, y_score)\n",
    "auc_metric = auc(fpr, tpr)\n",
    "\n",
    "print(auc_metric)\n",
    "\n",
    "plt.figure(figsize=(5,5))\n",
    "plt.plot(fpr, tpr)\n",
    "plt.xlabel('FPR')\n",
    "plt.ylabel('TPR')\n",
    "plt.show()"
   ]
  },
  {
   "cell_type": "markdown",
   "metadata": {},
   "source": [
    "## Using negative entropy as a confidence measure"
   ]
  },
  {
   "cell_type": "code",
   "execution_count": 73,
   "metadata": {},
   "outputs": [
    {
     "name": "stdout",
     "output_type": "stream",
     "text": [
      "(1000,)\n"
     ]
    }
   ],
   "source": [
    "from scipy.stats import entropy\n",
    "\n",
    "neg_entropies = -np.apply_along_axis(entropy, 1, preds)\n",
    "neg_entropies_ood = -np.apply_along_axis(entropy, 1, preds_ood)\n",
    "print(neg_entropies.shape)"
   ]
  },
  {
   "cell_type": "code",
   "execution_count": 74,
   "metadata": {},
   "outputs": [
    {
     "data": {
      "image/png": "[encoded data removed]",
      "text/plain": [
       "<matplotlib.figure.Figure at 0x1493a4dff28>"
      ]
     },
     "metadata": {},
     "output_type": "display_data"
    }
   ],
   "source": [
    "plt.figure(figsize=(7, 6), dpi=100)\n",
    "plt.title(\"Negative entropy confidence\", fontsize='xx-large')\n",
    "plt.hist([neg_entropies, neg_entropies_ood], bins=50, label=['in-dist', 'out-of-dist'])\n",
    "plt.legend(fontsize='xx-large')\n",
    "plt.ylabel(\"Frequency\", fontsize='xx-large')\n",
    "plt.xlabel(\"Entropy\", fontsize='xx-large')\n",
    "# plt.tight_layout()\n",
    "# plt.savefig(\"baselines/baseline_neg_ent_50.png\")\n",
    "plt.show()"
   ]
  },
  {
   "cell_type": "code",
   "execution_count": 75,
   "metadata": {},
   "outputs": [
    {
     "name": "stdout",
     "output_type": "stream",
     "text": [
      "0.576934\n"
     ]
    },
    {
     "data": {
      "image/png": "[encoded data removed]",
      "text/plain": [
       "<matplotlib.figure.Figure at 0x1493a790f60>"
      ]
     },
     "metadata": {},
     "output_type": "display_data"
    }
   ],
   "source": [
    "from sklearn.metrics import roc_curve\n",
    "from sklearn.metrics import auc\n",
    "\n",
    "y_true = np.concatenate( ( np.ones(len(neg_entropies)), np.zeros(len(neg_entropies_ood)) ) )\n",
    "y_score = np.concatenate((neg_entropies, neg_entropies_ood))\n",
    "fpr, tpr, thresholds = roc_curve(y_true, y_score)\n",
    "auc_metric = auc(fpr, tpr)\n",
    "\n",
    "print(auc_metric)\n",
    "\n",
    "plt.figure(figsize=(5,5))\n",
    "plt.plot(fpr, tpr)\n",
    "plt.xlabel('FPR')\n",
    "plt.ylabel('TPR')\n",
    "# plt.savefig(\"baselines/roc_neg_ent.png\")\n",
    "plt.show()"
   ]
  },
  {
   "cell_type": "markdown",
   "metadata": {
    "collapsed": true
   },
   "source": [
    "## histogram intersection"
   ]
  },
  {
   "cell_type": "code",
   "execution_count": 76,
   "metadata": {
    "collapsed": true
   },
   "outputs": [],
   "source": [
    "def return_intersection(hist_1, hist_2):\n",
    "    minima = np.minimum(hist_1, hist_2)\n",
    "    intersection = np.true_divide(np.sum(minima), np.sum(hist_2))\n",
    "    return intersection"
   ]
  },
  {
   "cell_type": "code",
   "execution_count": 77,
   "metadata": {},
   "outputs": [
    {
     "name": "stdout",
     "output_type": "stream",
     "text": [
      "maximal activation int: 0.938\n",
      "neg entropy int: 0.911\n"
     ]
    }
   ],
   "source": [
    "hist1,bins=np.histogram(confidence)\n",
    "hist2,bins=np.histogram(confidence_ood)\n",
    "\n",
    "hist3,bins=np.histogram(neg_entropies)\n",
    "hist4,bins=np.histogram(neg_entropies_ood)\n",
    "\n",
    "print(\"maximal activation int:\", return_intersection(hist1, hist2))\n",
    "print(\"neg entropy int:\", return_intersection(hist3, hist4))"
   ]
  },
  {
   "cell_type": "code",
   "execution_count": 78,
   "metadata": {},
   "outputs": [
    {
     "name": "stdout",
     "output_type": "stream",
     "text": [
      "Ttest_indResult(statistic=3.1795532028559363, pvalue=0.001497616275838641)\n",
      "Ttest_indResult(statistic=4.103185657364766, pvalue=4.2386793742736764e-05)\n"
     ]
    }
   ],
   "source": [
    "from scipy import stats\n",
    "\n",
    "print(stats.ttest_ind(confidence,confidence_ood))\n",
    "print(stats.ttest_ind(neg_entropies,neg_entropies_ood))"
   ]
  },
  {
   "cell_type": "code",
   "execution_count": null,
   "metadata": {
    "collapsed": true
   },
   "outputs": [],
   "source": []
  }
 ],
 "metadata": {
  "kernelspec": {
   "display_name": "Python 3",
   "language": "python",
   "name": "python3"
  },
  "language_info": {
   "codemirror_mode": {
    "name": "ipython",
    "version": 3
   },
   "file_extension": ".py",
   "mimetype": "text/x-python",
   "name": "python",
   "nbconvert_exporter": "python",
   "pygments_lexer": "ipython3",
   "version": "3.6.3"
  }
 },
 "nbformat": 4,
 "nbformat_minor": 2
}
